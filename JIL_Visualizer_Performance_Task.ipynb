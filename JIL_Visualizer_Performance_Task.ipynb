{
  "nbformat": 4,
  "nbformat_minor": 0,
  "metadata": {
    "colab": {
      "name": "JIL_Visualizer_Performance_Task.ipynb",
      "provenance": [],
      "collapsed_sections": [],
      "include_colab_link": true
    },
    "kernelspec": {
      "display_name": "Python 3",
      "language": "python",
      "name": "python3"
    },
    "language_info": {
      "codemirror_mode": {
        "name": "ipython",
        "version": 3
      },
      "file_extension": ".py",
      "mimetype": "text/x-python",
      "name": "python",
      "nbconvert_exporter": "python",
      "pygments_lexer": "ipython3",
      "version": "3.6.5"
    }
  },
  "cells": [
    {
      "cell_type": "markdown",
      "metadata": {
        "id": "view-in-github",
        "colab_type": "text"
      },
      "source": [
        "<a href=\"https://colab.research.google.com/github/dylanmortimer12/ScoutingReport/blob/master/JIL_Visualizer_Performance_Task.ipynb\" target=\"_parent\"><img src=\"https://colab.research.google.com/assets/colab-badge.svg\" alt=\"Open In Colab\"/></a>"
      ]
    },
    {
      "cell_type": "markdown",
      "metadata": {
        "id": "6osc3uoQmsB-"
      },
      "source": [
        "# Justice Innovation Lab Performance Task\n",
        "\n",
        "Thank you for your interest in the Justice Innovation Lab. We appreciate the time you are taking to apply, and we hope that this performance task gives a chance to demonstrate some of your skills in the context of hypothetical examples."
      ]
    },
    {
      "cell_type": "markdown",
      "metadata": {
        "id": "tEAEJaMUm0HQ"
      },
      "source": [
        "# Instructions\n",
        "\n",
        "**PLEASE READ CAREFULLY**\n",
        "\n",
        "This is not a timed task, but we aimed for a task that does not take more than 6 hours.  You may add more cells for work, but please do not delete any existing  notebook cells. \n",
        "\n",
        "**Please use Python or R.** Please use this ipynb file to supply your answers. It should be completed using either a python or R kernel. If you do not have access to a computer capable of running your python or R code, you may use free online computing services such as kaggle or colab. or any other online computing service. We have tested both kaggle and collab and they are sufficiently powerful to complete all the tasks below. \n",
        " - https://www.kaggle.com/notebooks/welcome\n",
        " - https://colab.research.google.com/\n",
        " \n",
        "\n",
        "**Please show your work.** We are interested in your thought process, so please show/annotate your code. We prefer that you display images inline rather than in separate files. If you need to install any packages, please include the code required to install them. Eg: \n",
        "\n",
        "> ```! pip install new_package  # (for python)```\n",
        "\n",
        "> ```! install.packages(new.package, dependencies = TRUE) # (for R)```\n",
        "\n",
        "\n",
        "**Please send us a single compressed file.** When you are done, please follow the directions at the end to submit your work.\n",
        "\n",
        "**Please let us know if you have any questions.** If you have questions about the task please email hiring@justiceinnovationlab.org (we promise there's a human on the other end, but also expect slow response times)."
      ]
    },
    {
      "cell_type": "markdown",
      "metadata": {
        "id": "XMR48t9izdro"
      },
      "source": [
        "# Name, Date & Email\n",
        "Please enter your full name and email address in the markdown space below. "
      ]
    },
    {
      "cell_type": "markdown",
      "metadata": {
        "id": "vbajbIN2zduK"
      },
      "source": [
        "Name: Dylan Mortimer\n",
        "\n",
        "Date: 4/1/21\n",
        "\n",
        "Email: dmortimer@middlebury.edu\n",
        "\n"
      ]
    },
    {
      "cell_type": "markdown",
      "metadata": {
        "id": "CICDn-l8bN82"
      },
      "source": [
        "# Section 1: Data Manipulation\n",
        "Suppose a jurisdiction has data on:\n",
        "\n",
        "Recent traffic stops by some a local Police Department officers (traffic stops data): \n",
        "- https://drive.google.com/uc?export=download&id=1fp7716e-l7RZusH6wo8UeUQNM7J0dyYN\n",
        "\n",
        "Crime incidents reported to the police department (crime incidents data): \n",
        "- https://drive.google.com/uc?export=download&id=12gnXMitHQM1nTqBm20Gcq84r7qgttWY-\n",
        "\n",
        "Using these data, please perform the following tasks."
      ]
    },
    {
      "cell_type": "markdown",
      "metadata": {
        "id": "MphS6m1wbN83"
      },
      "source": [
        "## Task 1.A \n",
        "Load the data we provided and view a few rows of each. As a note, if you're reading in the courts data for Section 2 using pd.read_csv in Python, you may need to use the following syntax to read from the url:\n",
        "\n",
        "courts_df = pd.read_csv(courts_data_url, names = ['stop_id', 'ticket_amount', \n",
        "                                                  'ticket_status'], skiprows = 1)\n",
        "\n",
        "*Reminder*: for all questions, please write your code in this notebook!  This is what we will review and score. "
      ]
    },
    {
      "cell_type": "code",
      "metadata": {
        "id": "tLcW3CgDbN83",
        "colab": {
          "base_uri": "https://localhost:8080/"
        },
        "outputId": "fc7e8c8e-0718-4f44-a8b1-cb952ac91ddb"
      },
      "source": [
        "import pandas as pd\n",
        "\n",
        "# downloading traffic stop data\n",
        "\n",
        "traffic_stop_url = \"https://drive.google.com/uc?export=download&id=1fp7716e-l7RZusH6wo8UeUQNM7J0dyYN\"\n",
        "\n",
        "traffic_df = pd.read_csv(traffic_stop_url)\n",
        "\n",
        "\n",
        "# downloading crime incidents data\n",
        "\n",
        "crime_incidents_url = \"https://drive.google.com/uc?export=download&id=12gnXMitHQM1nTqBm20Gcq84r7qgttWY-\"\n",
        "\n",
        "crime_df = pd.read_csv(crime_incidents_url)\n",
        "\n",
        "# printing first 5 rows of traffic stop data\n",
        "\n",
        "print(traffic_df.head())\n",
        "\n",
        "# printing first 5 rows of crime data\n",
        "\n",
        "print(crime_df.head())\n"
      ],
      "execution_count": 55,
      "outputs": [
        {
          "output_type": "stream",
          "text": [
            "   stop_id officer_id   stop_date  driver_age driver_sex  ticket driver_race\n",
            "0    61001          A  2017-03-19          28          f    True       black\n",
            "1    96921          B  2017-08-02          16          m    True       black\n",
            "2   190446          E  2017-05-18          69          m   False       black\n",
            "3   199132          D  2017-05-26          20          f    True       white\n",
            "4     2120          E  2017-06-26          32          m    True       black\n",
            "           X          Y       CCN  ...   OBJECTID OCTO_RECORD_ID       OFFENSE\n",
            "0 -77.058663  38.906846   7093973  ...  341397622    07093973-01  THEFT F/AUTO\n",
            "1 -77.018036  38.960747   9251904  ...  341453326    09251904-01      homicide\n",
            "2 -76.984955  38.915147  14060710  ...  341600002    14060710-01      HOMICIDE\n",
            "3 -77.009722  38.824388  16217337  ...  341698884    16217337-01    homicide-x\n",
            "4 -77.017203  38.904526  17037020  ...  341703531    17037020-01  THEFT F/AUTO\n",
            "\n",
            "[5 rows x 25 columns]\n"
          ],
          "name": "stdout"
        }
      ]
    },
    {
      "cell_type": "markdown",
      "metadata": {
        "id": "ExB-VTU0bN89"
      },
      "source": [
        "## Task 1.B\n",
        "Crime incidents are reported down to the hour/minute, while stops are only reported down to the day.\n",
        "\n",
        "Please create a new column based on `REPORT_DAT` column of the crime incidents data that rounds the exact timestamp for the crime down to the day-- for instance, \"2017-06-03T12:54:27.000Z\" would become \"2017-06-03\". Call this column `report_daily`"
      ]
    },
    {
      "cell_type": "code",
      "metadata": {
        "id": "THdm0xejbN89"
      },
      "source": [
        "import datetime\n",
        "\n",
        "rounded_format = \"%Y-%m-%d\"\n",
        "\n",
        "# convert REPORT_DAT to datetime object\n",
        "crime_df['REPORT_DAT'] = pd.to_datetime(crime_df['REPORT_DAT'])\n",
        "\n",
        "# copy REPORT_DAT and convert datetime format\n",
        "crime_df['report_daily'] = crime_df['REPORT_DAT'].dt.strftime(rounded_format)\n"
      ],
      "execution_count": 56,
      "outputs": []
    },
    {
      "cell_type": "markdown",
      "metadata": {
        "id": "VD66Z_qybN9A"
      },
      "source": [
        "## Task 1.C \n",
        "Create a new data set `crimes_by_day` that gives the total count of crime incidents per day. For the purposes of aggregating, you can consider each unique `OBJECTID' as reflecting a different crime incident.\n",
        "\n",
        "Similarly, create a new data set `stops_by_day` that gives the total count of traffic stops per day. For the purposes of aggregating, you can consider each unique `stop_id` as reflecting a different stop."
      ]
    },
    {
      "cell_type": "code",
      "metadata": {
        "colab": {
          "base_uri": "https://localhost:8080/"
        },
        "id": "hwWRdiyTQazH",
        "outputId": "e46433b3-a5c1-4cc8-acea-61dd526db9a2"
      },
      "source": [
        "# just making sure that each row is a different crime\n",
        "crime_df['OBJECTID'].is_unique \n",
        "\n",
        "crimes_by_day = pd.DataFrame(crime_df.groupby('report_daily', as_index=False)['OBJECTID'].count())\n",
        "\n",
        "crimes_by_day.columns = ['Date','Total_Crime_Incidents']\n",
        "\n",
        "crimes_by_day['Date'] = pd.to_datetime(crimes_by_day['Date'])\n",
        "\n",
        "print((crimes_by_day.head()))"
      ],
      "execution_count": 159,
      "outputs": [
        {
          "output_type": "stream",
          "text": [
            "        Date  Total_Crime_Incidents\n",
            "0 2017-03-01                     80\n",
            "1 2017-03-02                     59\n",
            "2 2017-03-03                     84\n",
            "3 2017-03-04                     77\n",
            "4 2017-03-05                     61\n"
          ],
          "name": "stdout"
        }
      ]
    },
    {
      "cell_type": "code",
      "metadata": {
        "id": "u00CSUfXbN9B",
        "colab": {
          "base_uri": "https://localhost:8080/"
        },
        "outputId": "1e37b185-84cb-4e65-efb3-2adac2f7115a"
      },
      "source": [
        "# group by and count\n",
        "stops_by_day = pd.DataFrame(traffic_df.groupby('stop_date', as_index=False)['stop_id'].count())\n",
        "\n",
        "stops_by_day.columns = ['Date','Total_Stops']\n",
        "\n",
        "stops_by_day['Date'] = pd.to_datetime(stops_by_day['Date'])\n",
        "\n",
        "print(stops_by_day.head())"
      ],
      "execution_count": 144,
      "outputs": [
        {
          "output_type": "stream",
          "text": [
            "        Date  Total_Stops\n",
            "0 2017-03-01          509\n",
            "1 2017-03-02          421\n",
            "2 2017-03-03          413\n",
            "3 2017-03-04          475\n",
            "4 2017-03-05          490\n"
          ],
          "name": "stdout"
        }
      ]
    },
    {
      "cell_type": "markdown",
      "metadata": {
        "id": "0yfkoTVHbN9D"
      },
      "source": [
        "## Task 1.D\n",
        "For either the traffic stops by day or crime incidents by day, check if there are days missing in the period measured. If so, fill them with the mean across all other days for that data.\n"
      ]
    },
    {
      "cell_type": "code",
      "metadata": {
        "id": "_KjgC3ambN9E",
        "colab": {
          "base_uri": "https://localhost:8080/"
        },
        "outputId": "017dbf0b-d115-4944-9e28-f3d1d8086791"
      },
      "source": [
        "# Get set of all dates in range\n",
        "date_range_set = set(pd.date_range(start = stops_by_day['Date'].min(), end = stops_by_day['Date'].max()))\n",
        "\n",
        "# Get set of all dates in df\n",
        "stops_set = set(stops_by_day['Date'])\n",
        "\n",
        "# find missing dates by comparing sets\n",
        "missing_dates = date_range_set.difference(stops_set)\n",
        "\n",
        "# add avg in for missing dates\n",
        "daily_avg = stops_by_day['Total_Stops'].mean()\n",
        "\n",
        "for d in missing_dates:\n",
        "  stops_by_day = stops_by_day.append({'Date':d,'Total_Stops': daily_avg},ignore_index=True)\n",
        "\n"
      ],
      "execution_count": 145,
      "outputs": [
        {
          "output_type": "stream",
          "text": [
            "{Timestamp('2017-04-30 00:00:00', freq='D'), Timestamp('2017-06-30 00:00:00', freq='D'), Timestamp('2017-03-30 00:00:00', freq='D'), Timestamp('2017-05-31 00:00:00', freq='D'), Timestamp('2017-07-30 00:00:00', freq='D'), Timestamp('2017-05-30 00:00:00', freq='D'), Timestamp('2017-07-31 00:00:00', freq='D'), Timestamp('2017-03-31 00:00:00', freq='D')}\n",
            "          Date  Total_Stops\n",
            "174 2017-04-30   465.206897\n",
            "175 2017-06-30   465.206897\n",
            "176 2017-03-30   465.206897\n",
            "177 2017-05-31   465.206897\n",
            "178 2017-07-30   465.206897\n",
            "179 2017-05-30   465.206897\n",
            "180 2017-07-31   465.206897\n",
            "181 2017-03-31   465.206897\n"
          ],
          "name": "stdout"
        }
      ]
    },
    {
      "cell_type": "markdown",
      "metadata": {
        "id": "31YixbLtbN9H"
      },
      "source": [
        "## Task 1.E\n",
        "Merge the traffic stops by day data with the crimes by day data. Which specific date has the most traffic stops? Which specific date has the most crime incidents?"
      ]
    },
    {
      "cell_type": "code",
      "metadata": {
        "id": "HtqnzvcqbN9H",
        "colab": {
          "base_uri": "https://localhost:8080/"
        },
        "outputId": "fe40e18f-7dc6-48f3-9d13-f6e0329b5c18"
      },
      "source": [
        "# Merge data\n",
        "joint_by_day = crimes_by_day.merge(stops_by_day, how='outer', on='Date')\n",
        "\n",
        "# sort by Total stops - 2017-05-01 had the most stops with 535\n",
        "max_stops = joint_by_day.sort_values(by=['Total_Stops'], ascending=False).reset_index(drop=True)['Date'][0]\n",
        "print(str(datetime.datetime.strftime(max_stops, '%Y-%m-%d')) + ' had the most stops')\n",
        "\n",
        "# sort by Total Crimes - 2017-05-29 and 2017-05-08 tied for the most crime incidents with 122\n",
        "max_crime_incidents = joint_by_day.sort_values(by=['Total_Crime_Incidents'], ascending=False).reset_index(drop=True)['Date'][0]\n",
        "max_crime_incidents2 = joint_by_day.sort_values(by=['Total_Crime_Incidents'], ascending=False).reset_index(drop=True)['Date'][1]\n",
        "print(str(datetime.datetime.strftime(max_crime_incidents, '%Y-%m-%d')) + ' and ' + str(datetime.datetime.strftime(max_crime_incidents2, '%Y-%m-%d')) +' had the most crime incidents')\n",
        "\n"
      ],
      "execution_count": 177,
      "outputs": [
        {
          "output_type": "stream",
          "text": [
            "2017-05-01 had the most stops\n",
            "2017-05-29 and 2017-05-08 had the most crime incidents\n"
          ],
          "name": "stdout"
        }
      ]
    },
    {
      "cell_type": "markdown",
      "metadata": {
        "id": "j-icMqSqiwwN"
      },
      "source": [
        "## Task 1.F (bonus)\n",
        "Using a coding-based solution, what day of the week was that date?"
      ]
    },
    {
      "cell_type": "code",
      "metadata": {
        "id": "Od4IXMuSi9m8",
        "colab": {
          "base_uri": "https://localhost:8080/"
        },
        "outputId": "3af61112-f612-4cb2-c2c1-c1f55286f88b"
      },
      "source": [
        "# check weekday with weekday() of each date\n",
        "max_stops.weekday()\n",
        "max_crime_incidents.weekday()\n",
        "max_crime_incidents2.weekday()\n",
        "\n",
        "# each max day was a Monday\n",
        "print('each weekday was Monday for max traffic stops and max crime incidents')"
      ],
      "execution_count": 180,
      "outputs": [
        {
          "output_type": "stream",
          "text": [
            "each weekday was Monday for max traffic stops and max crime incidents\n"
          ],
          "name": "stdout"
        }
      ]
    },
    {
      "cell_type": "markdown",
      "metadata": {
        "id": "ejSABI9SbN9K"
      },
      "source": [
        "## Task 1.G\n",
        "Create a plot where the x axis is the date and the y axis is the ratio of traffic stops to crime incidents. Make sure the axis labels are informative.\n",
        "\n",
        "*Note*: make sure your code prints out the plot. You do not need to attach the plot here.\n",
        "\n",
        "What seasonal patterns do you notice? Explain in 1-2 sentences\n"
      ]
    },
    {
      "cell_type": "code",
      "metadata": {
        "id": "3AgpVOk0bN9K",
        "colab": {
          "base_uri": "https://localhost:8080/",
          "height": 295
        },
        "outputId": "0154e4c9-cc22-4535-acf4-d5be6725a6ab"
      },
      "source": [
        "import matplotlib\n",
        "import matplotlib.pyplot as plt\n",
        "import numpy as np\n",
        "\n",
        "fig, ax = plt.subplots()\n",
        "ax.plot(joint_by_day['Date'], (joint_by_day['Total_Stops']/joint_by_day['Total_Crime_Incidents']))\n",
        "\n",
        "ax.set(xlabel='Date', ylabel='Traffic Stops/Crime Incidents',\n",
        "       title='Ratio of Traffic Stops to Crime Incidents by Date')\n",
        "ax.grid()\n",
        "plt.show()"
      ],
      "execution_count": 181,
      "outputs": [
        {
          "output_type": "display_data",
          "data": {
            "image/png": "[encoded data removed]",
            "text/plain": [
              "<Figure size 432x288 with 1 Axes>"
            ]
          },
          "metadata": {
            "tags": [],
            "needs_background": "light"
          }
        }
      ]
    },
    {
      "cell_type": "markdown",
      "metadata": {
        "id": "Zu-KMzyHQazL"
      },
      "source": [
        "## Task 1.H \n",
        "Create a new data set `offenses_by_month` that gives the total count of crime incidents by offense type per month. For the purposes of aggregating, you can consider each unique `OBJECTID` as reflecting a different crime incident. Consider that this table should be interpretable to a non-technical audience and may require manipulation of the underlying data."
      ]
    },
    {
      "cell_type": "code",
      "metadata": {
        "id": "7MWq8b6TQazM"
      },
      "source": [
        ""
      ],
      "execution_count": null,
      "outputs": []
    },
    {
      "cell_type": "markdown",
      "metadata": {
        "id": "qKyB5p49QazM"
      },
      "source": [
        "## Task 1.I \n",
        "Create a plot using the `offenses_by_month` dataset that a policy maker would find informative for understanding crime trends. Provide a brief description of the visual and any insights you might draw from it."
      ]
    },
    {
      "cell_type": "code",
      "metadata": {
        "id": "B9cziAIeQazM"
      },
      "source": [
        ""
      ],
      "execution_count": null,
      "outputs": []
    },
    {
      "cell_type": "markdown",
      "metadata": {
        "id": "FV_srmPLQazN"
      },
      "source": [
        "[Explain any manipulation of the dataset you performed and demonstrate how you would make such manipulation repeatable for future similar datasets.]"
      ]
    },
    {
      "cell_type": "markdown",
      "metadata": {
        "id": "DpLWDY8yQazN"
      },
      "source": [
        "## Task 1.J\n",
        "Criminal justice data is often correlated with geography. Using any of the geography related columns and any other relevant resources [example](https://opendata.dc.gov/datasets/ward-from-2012), create a plot for a policymaker reflecting a geographic-related insight using the crimes dataset. You do not have to create a map or use any other data sources for this portion if you do not wish to."
      ]
    },
    {
      "cell_type": "code",
      "metadata": {
        "id": "_OGyBb5VQazN"
      },
      "source": [
        ""
      ],
      "execution_count": null,
      "outputs": []
    },
    {
      "cell_type": "markdown",
      "metadata": {
        "id": "gbseTtHjbN9N"
      },
      "source": [
        "# Section 2: Policy Evaluation\n",
        "Suppose the city government enacted a policy that allows people with low incomes (less than $30,000 per year) to have their ticket amount reduced 20 to 40 percent. The goal of the new policy is to reduce the number of overdue tickets among low-income residents.\n",
        "\n",
        "In this section, you'll use the same traffic stop data as in Section 1. You'll also use data on the court outcomes of tickets: \n",
        "- https://drive.google.com/uc?export=download&id=1CLyfh4-_oc8mTRdh4Fl9vH7JYOsUcUom\n",
        "\n",
        "and data on residents' income:\n",
        "- https://drive.google.com/uc?export=download&id=1CaERRReTMStFgutGEJo6hC34Od7mrHSG\n",
        "\n",
        "Please use those three data sets to answer the following questions.\n"
      ]
    },
    {
      "cell_type": "markdown",
      "metadata": {
        "id": "Q9sbjklJbN9O"
      },
      "source": [
        "## Task 2.A\n",
        "Determine whether there is a large difference between the ticket amounts for people with incomes less than \\\\$30,000 and those with incomes greater than or equal to \\\\$30,000. (Tickets are given out in \\\\$1.00 increments).\n"
      ]
    },
    {
      "cell_type": "code",
      "metadata": {
        "id": "3EjgmHOYbN9O"
      },
      "source": [
        "\n",
        "\n",
        "\n"
      ],
      "execution_count": null,
      "outputs": []
    },
    {
      "cell_type": "markdown",
      "metadata": {
        "id": "Qnp3ZfWzjgDK"
      },
      "source": [
        "Explain your answer in 1-2 sentences."
      ]
    },
    {
      "cell_type": "markdown",
      "metadata": {
        "id": "Uw11uyWVjg7U"
      },
      "source": [
        " \n",
        "[insert explanation here]\n",
        "\n",
        " "
      ]
    },
    {
      "cell_type": "markdown",
      "metadata": {
        "id": "LMv1guaPbN9R"
      },
      "source": [
        "## Task 2.B\n",
        "Use a regression discontinuity design (RDD) to determine whether the new policy has a detectable impact on residents' likelihood of paying on time."
      ]
    },
    {
      "cell_type": "code",
      "metadata": {
        "id": "9z7L1jf8bN9R"
      },
      "source": [
        "\n",
        "\n",
        "\n"
      ],
      "execution_count": null,
      "outputs": []
    },
    {
      "cell_type": "markdown",
      "metadata": {
        "id": "r1QhvoRIj0bH"
      },
      "source": [
        "EXPLAIN: What key (1-3) assumptions did you make?"
      ]
    },
    {
      "cell_type": "markdown",
      "metadata": {
        "id": "anMcTRgPj2uc"
      },
      "source": [
        "[insert explanation here]"
      ]
    },
    {
      "cell_type": "markdown",
      "metadata": {
        "id": "AQreV3afbN9U"
      },
      "source": [
        "## Task 2.C\n",
        "\n",
        "A colleague wants you to check the robustness of the results. They're\n",
        "wondering if we see differences in paying on time at income thresholds other than \\$30,000. If\n",
        "we do, we'd be less sure that the policy is working.\n",
        "\n",
        "They want to you to plot the distribution of p-values for a test that looks at differences in\n",
        "paying on time at \\\\$5,000, \\\\$10,000 and so on for every \\\\$5,000 increment up to \\\\$50,000. They\n",
        "hope to see null results for incomes other than \\\\$30,000.\n",
        "\n",
        "You realize, since that could involves copying and pasting the code for one model many\n",
        "times, and that it would be more efficient to write a function that:\n",
        "\n",
        "- Takes in the data and the vector of cutoffs (provided in your code file)\n",
        "\n",
        "- Re-estimates the model from the previous step\n",
        "\n",
        "- Returns the p value from that model\n",
        "\n",
        "Please write a function to that effect, and then use the results to create a plot where the x axis is the income cutoff (again, \\\\$5,000 to \\\\$50,000, in \\\\$5,000 increments) and the y axis is the pvalue for the model estimating the effect of that cutoff on paying on time."
      ]
    },
    {
      "cell_type": "code",
      "metadata": {
        "id": "DLqR1HgMkE_r"
      },
      "source": [
        "import numpy as np\n",
        "thresholds = list(np.arange(5000, 50000, 5000))\n",
        "\n",
        "\n"
      ],
      "execution_count": null,
      "outputs": []
    },
    {
      "cell_type": "markdown",
      "metadata": {
        "id": "gWgze6NJkFbT"
      },
      "source": [
        "**EXPLAIN** In 1-2 sentences, explain whether the plot strengthens your claims about the effect of the policy.\n"
      ]
    },
    {
      "cell_type": "markdown",
      "metadata": {
        "id": "bVLNfxTckJD0"
      },
      "source": [
        "[insert explanation here]"
      ]
    },
    {
      "cell_type": "markdown",
      "metadata": {
        "id": "ORt9Vsmuh_fK"
      },
      "source": [
        "## Task 2.D\n",
        "In a paragraph, explain to your colleague, a Lab data scientist, whether or\n",
        "not the new policy had a detectable impact on residents' likelihood of having\n",
        "an overdue ticket. Assume that your colleague is generally familiar with the\n",
        "policy and the data.\n"
      ]
    },
    {
      "cell_type": "markdown",
      "metadata": {
        "id": "oEesgp-oke16"
      },
      "source": [
        "[insert paragraph here]"
      ]
    },
    {
      "cell_type": "markdown",
      "metadata": {
        "id": "9hhiJVJWbN9X"
      },
      "source": [
        "\n",
        "## Task 2.E\n",
        "A legislator, during a presentation, asks you whether the data show that the policy is\n",
        "working and for a recommendation on whether the policy should be\n",
        "expanded to include residents with incomes less than \\$60,000.\n",
        "\n",
        "In a paragraph or two, provide your answer. Provide some indication of how\n",
        "confident you are in your response.\n"
      ]
    },
    {
      "cell_type": "code",
      "metadata": {
        "id": "FO4_qfdEkxGe"
      },
      "source": [
        ""
      ],
      "execution_count": null,
      "outputs": []
    },
    {
      "cell_type": "markdown",
      "metadata": {
        "id": "8xY9G2F2kwDU"
      },
      "source": [
        "[insert recommendation and explanation here]"
      ]
    },
    {
      "cell_type": "markdown",
      "metadata": {
        "id": "o58XS639QazV"
      },
      "source": [
        "# Section 3: General Questions"
      ]
    },
    {
      "cell_type": "markdown",
      "metadata": {
        "id": "5GHFt3vHQazW"
      },
      "source": [
        "## Task 3.A\n",
        "\n",
        "Explain your interest in JIL's racial equity work"
      ]
    },
    {
      "cell_type": "markdown",
      "metadata": {
        "id": "mjweYQWqQazW"
      },
      "source": [
        "[insert explanation here]"
      ]
    },
    {
      "cell_type": "markdown",
      "metadata": {
        "id": "lje3yYmhQazW"
      },
      "source": [
        "## Task 3.B\n",
        "\n",
        "The stops data also contains information regarding the individual's race. Using the driver_race column and the ticket column, determine if there are differences in who is stopped and whether they receive a ticket. Present your findings in a table along with (1) a description of the table and (2) an explanation of the results."
      ]
    },
    {
      "cell_type": "code",
      "metadata": {
        "id": "3Oxf50tDQazW"
      },
      "source": [
        ""
      ],
      "execution_count": null,
      "outputs": []
    },
    {
      "cell_type": "markdown",
      "metadata": {
        "id": "58JYNMQaQazW"
      },
      "source": [
        "[insert explanation here]"
      ]
    },
    {
      "cell_type": "markdown",
      "metadata": {
        "id": "c3ek-B8VoR6j"
      },
      "source": [
        "# Send us your work!!!\n",
        "\n",
        "Once you have completed the tasks:\n",
        " - Create a PDF or knitted HTML file of this of this notebook.  \n",
        " - Compress **this IPYNB file** and the PDF or HTML file along with any accompanying files or scripts you have created that are necessary to show your work into a SINGLE COMPRESSED FILE. (e.g., zip, bz2, gz, tar, xz). \n",
        " - Name the compressed file with your full name, e.g. lastname-firstname.zip.\n",
        "\n",
        "Do BOTH of the following: \n",
        " - Upload the compressed file here: https://app.box.com/f/5010c8cf893f42aca6b9fcfc90007ae4\n",
        " - Email the compressed file to hiring@justiceinnovationlab.org with the subject line 'Data Visualization Engineer Performance Task'.\n",
        "\n",
        "What to expect next:\n",
        " - Applications are open until ...\n",
        " - We will review completed tasks as they are submitted, hopefully within a week of submission.\n",
        " - After reviewing your performance task we will get back to you with next steps e.g. submission of a resume and cover letter.\n"
      ]
    }
  ]
}